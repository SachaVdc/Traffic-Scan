{
 "cells": [
  {
   "cell_type": "markdown",
   "metadata": {},
   "source": [
    "# Step 1: Import and Init"
   ]
  },
  {
   "cell_type": "code",
   "execution_count": null,
   "metadata": {
    "_cell_guid": "b1076dfc-b9ad-4769-8c92-a6c4dae69d19",
    "_uuid": "8f2839f25d086af736a60e9eeb907d3b93b6e0e5",
    "execution": {
     "iopub.execute_input": "2022-07-16T16:23:31.446796Z",
     "iopub.status.busy": "2022-07-16T16:23:31.446198Z",
     "iopub.status.idle": "2022-07-16T16:23:38.025161Z",
     "shell.execute_reply": "2022-07-16T16:23:38.024138Z",
     "shell.execute_reply.started": "2022-07-16T16:23:31.446680Z"
    },
    "trusted": true
   },
   "outputs": [],
   "source": [
    "import os\n",
    "import cv2\n",
    "from PIL import Image\n",
    "import numpy as np\n",
    "import pandas as pd\n",
    "import matplotlib.pyplot as plt\n",
    "import matplotlib.animation as animation\n",
    "\n",
    "import sys\n",
    "import imageio\n",
    "\n",
    "import tensorflow as tf\n",
    "from tensorflow import keras\n",
    "from tensorflow.keras import layers, losses\n",
    "from tensorflow.keras.models import Model\n",
    "from tensorflow.keras.utils import plot_model"
   ]
  },
  {
   "cell_type": "markdown",
   "metadata": {},
   "source": [
    "# Step 2: Retrieve Data"
   ]
  },
  {
   "cell_type": "code",
   "execution_count": null,
   "metadata": {},
   "outputs": [],
   "source": [
    "# CSV file path\n",
    "CSV_PATH = \"Crash_Table.csv\"\n",
    "\n",
    "# Load the CSV file into a DataFrame\n",
    "df = pd.read_csv(CSV_PATH)\n",
    "\n",
    "arr = []\n",
    "\n",
    "for ind in df.index:\n",
    "    for i in range(1, 51):\n",
    "        arr.append(df[f\"frame_{i}\"][ind])\n",
    "\n",
    "print(len(arr))\n",
    "df"
   ]
  },
  {
   "cell_type": "code",
   "execution_count": null,
   "metadata": {},
   "outputs": [],
   "source": [
    "IMAGE_PATH = \"C:\\\\\\\\Users\\\\sacha\\\\OneDrive\\\\Bureau\\\\CrashBest\"\n",
    "\n",
    "# Load images from the directory and create a dataset\n",
    "dataset = keras.preprocessing.image_dataset_from_directory(IMAGE_PATH, labels=arr, batch_size=128, label_mode='int')"
   ]
  },
  {
   "cell_type": "markdown",
   "metadata": {},
   "source": [
    "# Step 3: Preparing the Data"
   ]
  },
  {
   "cell_type": "code",
   "execution_count": null,
   "metadata": {
    "execution": {
     "iopub.execute_input": "2022-07-16T16:35:55.796554Z",
     "iopub.status.busy": "2022-07-16T16:35:55.796202Z",
     "iopub.status.idle": "2022-07-16T16:35:55.823366Z",
     "shell.execute_reply": "2022-07-16T16:35:55.822525Z",
     "shell.execute_reply.started": "2022-07-16T16:35:55.796520Z"
    },
    "trusted": true
   },
   "outputs": [],
   "source": [
    "# Normalize the images to the range [0, 1]\n",
    "dataset = dataset.map(lambda x, y: (x / 255.0, y))"
   ]
  },
  {
   "cell_type": "code",
   "execution_count": null,
   "metadata": {
    "execution": {
     "iopub.execute_input": "2022-07-16T16:35:55.825120Z",
     "iopub.status.busy": "2022-07-16T16:35:55.824780Z",
     "iopub.status.idle": "2022-07-16T16:35:55.832167Z",
     "shell.execute_reply": "2022-07-16T16:35:55.831295Z",
     "shell.execute_reply.started": "2022-07-16T16:35:55.825086Z"
    },
    "trusted": true
   },
   "outputs": [],
   "source": [
    "\n",
    "# Split the dataset into training (80%) and testing (20%)\n",
    "train_size = int(len(dataset) * 0.8)\n",
    "\n",
    "# Shuffle the dataset before splitting\n",
    "dataset = dataset.shuffle(buffer_size=len(dataset))\n",
    "\n",
    "# Split the dataset into training and testing sets\n",
    "train_ds = dataset.take(train_size)\n",
    "test_ds = dataset.skip(train_size)"
   ]
  },
  {
   "cell_type": "markdown",
   "metadata": {},
   "source": [
    "# Step 4: Build a Model"
   ]
  },
  {
   "cell_type": "code",
   "execution_count": null,
   "metadata": {
    "execution": {
     "iopub.execute_input": "2022-07-16T16:23:38.029780Z",
     "iopub.status.busy": "2022-07-16T16:23:38.029288Z",
     "iopub.status.idle": "2022-07-16T16:23:41.551475Z",
     "shell.execute_reply": "2022-07-16T16:23:41.550454Z",
     "shell.execute_reply.started": "2022-07-16T16:23:38.029753Z"
    },
    "trusted": true
   },
   "outputs": [],
   "source": [
    "FILTER = 8\n",
    "\n",
    "# Define the model architecture\n",
    "model = keras.models.Sequential()\n",
    "model.add(keras.layers.InputLayer(input_shape=(256, 256, 3)))\n",
    "\n",
    "#Block 1\n",
    "model.add(keras.layers.Conv2D(FILTER, (3, 3), padding=\"same\", activation=\"relu\"))\n",
    "model.add(keras.layers.Conv2D(FILTER, (3, 3), padding=\"same\", activation=\"relu\"))\n",
    "model.add(keras.layers.Reshape((256, 256, FILTER)))\n",
    "model.add(keras.layers.MaxPooling2D((4, 4)))\n",
    "\n",
    "#Block 2\n",
    "model.add(keras.layers.Conv2D(FILTER * 2, (3, 3), padding=\"same\", activation=\"relu\"))\n",
    "model.add(keras.layers.Conv2D(FILTER * 2, (3, 3), padding=\"same\", activation=\"relu\"))\n",
    "model.add(keras.layers.MaxPooling2D((4, 4)))\n",
    "\n",
    "#Block 3\n",
    "model.add(keras.layers.Conv2D(FILTER * 4, (3, 3), padding=\"same\", activation=\"relu\"))\n",
    "model.add(keras.layers.Conv2D(FILTER * 4, (3, 3), padding=\"same\", activation=\"relu\"))\n",
    "model.add(keras.layers.MaxPooling2D((2, 2)))\n",
    "\n",
    "# Flatten the output of the last convolutional layer\n",
    "model.add(keras.layers.Flatten())\n",
    "model.add(keras.layers.Dense(128, activation=\"relu\"))\n",
    "model.add(keras.layers.Dense(16, activation=\"relu\"))\n",
    "model.add(keras.layers.Dense(1, activation=\"sigmoid\"))\n",
    "\n",
    "# Compile the model\n",
    "model.compile(optimizer='adam', loss=\"binary_crossentropy\", metrics = ['binary_accuracy'])\n",
    "model.summary()"
   ]
  },
  {
   "cell_type": "markdown",
   "metadata": {},
   "source": [
    "# Step 5: Train the model"
   ]
  },
  {
   "cell_type": "code",
   "execution_count": null,
   "metadata": {
    "execution": {
     "iopub.execute_input": "2022-07-16T16:36:03.300506Z",
     "iopub.status.busy": "2022-07-16T16:36:03.299352Z",
     "iopub.status.idle": "2022-07-16T17:44:31.017362Z",
     "shell.execute_reply": "2022-07-16T17:44:31.008494Z",
     "shell.execute_reply.started": "2022-07-16T16:36:03.300466Z"
    },
    "trusted": true
   },
   "outputs": [],
   "source": [
    "history = model.fit(train_ds, epochs=6, verbose=1, validation_data=test_ds)"
   ]
  },
  {
   "cell_type": "code",
   "execution_count": null,
   "metadata": {},
   "outputs": [],
   "source": [
    "fig, ax1 = plt.subplots()\n",
    "\n",
    "# Plot loss on the primary y-axis\n",
    "ax1.set_xlabel('Epochs')\n",
    "ax1.set_ylabel('Loss', color='tab:blue')\n",
    "ax1.plot(history.history['loss'], label='Loss', color='tab:blue')\n",
    "ax1.tick_params(axis='y', labelcolor='tab:blue')\n",
    "\n",
    "# Create a secondary y-axis for accuracy\n",
    "ax2 = ax1.twinx()\n",
    "ax2.set_ylabel('Accuracy', color='tab:orange')\n",
    "ax2.plot(history.history['accuracy'], label='Accuracy', color='tab:orange')\n",
    "ax2.tick_params(axis='y', labelcolor='tab:orange')\n",
    "\n",
    "# Add a title and show the plot\n",
    "plt.title('Training Loss and Accuracy')\n",
    "fig.tight_layout()\n",
    "plt.show()"
   ]
  },
  {
   "cell_type": "markdown",
   "metadata": {},
   "source": [
    "# Step 6 : Evaluation "
   ]
  },
  {
   "cell_type": "code",
   "execution_count": null,
   "metadata": {},
   "outputs": [],
   "source": [
    "score = model.evaluate(test_ds, verbose=0)\n",
    "\n",
    "print(f'Test loss     : {score[0]:4.4f}')\n",
    "print(f'Test accuracy : {score[1]:4.4f}')"
   ]
  },
  {
   "cell_type": "code",
   "execution_count": null,
   "metadata": {},
   "outputs": [],
   "source": [
    "y_sigmoid = model.predict(train_ds)\n",
    "y_pred    = np.argmax(y_sigmoid, axis=-1)\n",
    "\n",
    "from sklearn.metrics import classification_report,confusion_matrix, accuracy_score\n",
    "import seaborn as sns\n",
    "import matplotlib.pyplot as plt\n",
    "# import scikitplot as skplt \n",
    "\n",
    "print(classification_report(y_test,y_pred,digits = 4))\n",
    "print(accuracy_score(y_test,y_pred))\n",
    "\n",
    "cm = confusion_matrix(y_test, y_pred)\n",
    "plt.figure(figsize=(10, 8))\n",
    "sns.heatmap(cm, annot=True, fmt='d', cmap='Blues', xticklabels=range(3), yticklabels=range(3))\n",
    "plt.xlabel('Predicted Labels')\n",
    "plt.ylabel('True Labels')\n",
    "plt.title('Confusion Matrix')\n",
    "plt.show()"
   ]
  },
  {
   "cell_type": "code",
   "execution_count": null,
   "metadata": {},
   "outputs": [],
   "source": []
  },
  {
   "cell_type": "markdown",
   "metadata": {},
   "source": [
    "# Step 7 : Save the model"
   ]
  },
  {
   "cell_type": "code",
   "execution_count": null,
   "metadata": {
    "execution": {
     "iopub.execute_input": "2022-07-16T18:08:23.832305Z",
     "iopub.status.busy": "2022-07-16T18:08:23.831401Z",
     "iopub.status.idle": "2022-07-16T18:08:23.986663Z",
     "shell.execute_reply": "2022-07-16T18:08:23.985711Z",
     "shell.execute_reply.started": "2022-07-16T18:08:23.832265Z"
    },
    "trusted": true
   },
   "outputs": [],
   "source": [
    "from datetime import datetime\n",
    "\n",
    "timestamp = datetime.now().strftime(\"%Y%m%d_%H%M%S\")\n",
    "model.save(f\"CarCrashTensorflow_{timestamp}.keras\")"
   ]
  },
  {
   "cell_type": "markdown",
   "metadata": {},
   "source": [
    "# Step 8 : Load and try the model with new data"
   ]
  },
  {
   "cell_type": "code",
   "execution_count": null,
   "metadata": {},
   "outputs": [],
   "source": [
    "model_path = \"CarCrashTensorflow_20231003_123456.keras\"  # Replace with your actual path\n",
    "\n",
    "model2 = keras.models.load_model(model_path)"
   ]
  },
  {
   "cell_type": "code",
   "execution_count": null,
   "metadata": {
    "execution": {
     "iopub.execute_input": "2022-07-08T14:37:42.621516Z",
     "iopub.status.busy": "2022-07-08T14:37:42.621188Z",
     "iopub.status.idle": "2022-07-08T14:37:45.034436Z",
     "shell.execute_reply": "2022-07-08T14:37:45.033465Z",
     "shell.execute_reply.started": "2022-07-08T14:37:42.621481Z"
    },
    "trusted": true
   },
   "outputs": [],
   "source": [
    "anim_file = 'test.gif'\n",
    "imgs = []\n",
    "imgs[0].save(anim_file, save_all=True, append_images=imgs[1:], duration=100, loop=0)"
   ]
  },
  {
   "cell_type": "code",
   "execution_count": 2,
   "metadata": {},
   "outputs": [
    {
     "ename": "NameError",
     "evalue": "name 'cv2' is not defined",
     "output_type": "error",
     "traceback": [
      "\u001b[31m---------------------------------------------------------------------------\u001b[39m",
      "\u001b[31mNameError\u001b[39m                                 Traceback (most recent call last)",
      "\u001b[36mCell\u001b[39m\u001b[36m \u001b[39m\u001b[32mIn[2]\u001b[39m\u001b[32m, line 1\u001b[39m\n\u001b[32m----> \u001b[39m\u001b[32m1\u001b[39m NewData = \u001b[43mcv2\u001b[49m.cvtColor(cv2.imread(\u001b[33m'\u001b[39m\u001b[33mNewCrash.jpg\u001b[39m\u001b[33m'\u001b[39m), cv2.COLOR_BGR2RGB)\n\u001b[32m      2\u001b[39m plt.imshow(NewData)\n",
      "\u001b[31mNameError\u001b[39m: name 'cv2' is not defined"
     ]
    }
   ],
   "source": [
    "NewData = cv2.cvtColor(cv2.imread('NewCrash.jpg'), cv2.COLOR_BGR2RGB)\n",
    "plt.imshow(NewData)"
   ]
  },
  {
   "cell_type": "code",
   "execution_count": null,
   "metadata": {},
   "outputs": [],
   "source": [
    "NewData = cv2.resize(NewData,(256,256))\n",
    "plt.imshow(NewData)"
   ]
  },
  {
   "cell_type": "code",
   "execution_count": null,
   "metadata": {},
   "outputs": [],
   "source": [
    "NewData.shape"
   ]
  },
  {
   "cell_type": "code",
   "execution_count": null,
   "metadata": {},
   "outputs": [],
   "source": [
    "y_sigmoid = model2.predict(NewData)\n",
    "y_pred    = np.argmax(y_sigmoid, axis=-1)\n",
    "\n",
    "if y_pred == 0:\n",
    "    print(f\"No crash detected with {y_sigmoid}%\") \n",
    "else:\n",
    "    print(f\"Crash detected with {y_sigmoid}%\")"
   ]
  },
  {
   "cell_type": "code",
   "execution_count": null,
   "metadata": {},
   "outputs": [],
   "source": []
  }
 ],
 "metadata": {
  "kernelspec": {
   "display_name": ".venv",
   "language": "python",
   "name": "python3"
  },
  "language_info": {
   "codemirror_mode": {
    "name": "ipython",
    "version": 3
   },
   "file_extension": ".py",
   "mimetype": "text/x-python",
   "name": "python",
   "nbconvert_exporter": "python",
   "pygments_lexer": "ipython3",
   "version": "3.12.6"
  }
 },
 "nbformat": 4,
 "nbformat_minor": 4
}
