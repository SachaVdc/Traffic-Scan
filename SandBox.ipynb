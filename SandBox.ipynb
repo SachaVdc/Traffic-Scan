{
 "cells": [
  {
   "cell_type": "markdown",
   "id": "c5e9b688",
   "metadata": {},
   "source": [
    "# Sandbox"
   ]
  },
  {
   "cell_type": "markdown",
   "id": "ba7f3208",
   "metadata": {},
   "source": [
    "## Import librairies"
   ]
  },
  {
   "cell_type": "code",
   "execution_count": 1,
   "id": "832fa269",
   "metadata": {},
   "outputs": [
    {
     "name": "stdout",
     "output_type": "stream",
     "text": [
      "True\n"
     ]
    }
   ],
   "source": [
    "import pandas as pd\n",
    "import cv2\n",
    "import numpy as np\n",
    "from pathlib import Path\n",
    "import matplotlib.pyplot as plt\n",
    "from PIL import Image\n",
    "# to install pytorch, follow instructions on https://pytorch.org/get-started/locally/\n",
    "# if CUDA is installed, this should allow GPU training\n",
    "import torch\n",
    "import torch.nn as nn\n",
    "import torch.nn.functional as F\n",
    "import torchvision.transforms as transforms\n",
    "from torch.utils.data import DataLoader, Dataset\n",
    "# -> pip install torchsummary\n",
    "from torchsummary import summary\n",
    "print(torch.cuda.is_available())"
   ]
  },
  {
   "cell_type": "markdown",
   "id": "ed56caae",
   "metadata": {},
   "source": [
    "## Import data"
   ]
  },
  {
   "cell_type": "code",
   "execution_count": null,
   "id": "c24a75a7",
   "metadata": {},
   "outputs": [],
   "source": [
    "df = pd.read_csv('pl_data.csv', encoding='latin1')"
   ]
  },
  {
   "cell_type": "code",
   "execution_count": null,
   "id": "ecca0db9",
   "metadata": {},
   "outputs": [],
   "source": [
    "df"
   ]
  },
  {
   "cell_type": "code",
   "execution_count": null,
   "id": "44c1927d",
   "metadata": {},
   "outputs": [],
   "source": [
    "df['category']"
   ]
  },
  {
   "cell_type": "code",
   "execution_count": null,
   "id": "fd796b98",
   "metadata": {},
   "outputs": [],
   "source": [
    "from sklearn import preprocessing\n",
    "le = preprocessing.LabelEncoder()\n",
    "le.fit(df['category'])\n",
    "y = le.transform(df['category'])\n",
    "print(y)\n",
    "print(y.shape)\n",
    "print(list(le.inverse_transform([0, 1, 2])))"
   ]
  },
  {
   "cell_type": "code",
   "execution_count": null,
   "id": "16477792",
   "metadata": {},
   "outputs": [],
   "source": [
    "X = []\n",
    "index = 0\n",
    "\n",
    "for files in df.images: \n",
    "    X.append(cv2.cvtColor(cv2.imread(files), cv2.COLOR_BGR2RGB))\n",
    "    index = index+1\n",
    "\n",
    "X = np.asarray(X)\n",
    "print(X.shape)"
   ]
  },
  {
   "cell_type": "code",
   "execution_count": null,
   "id": "0edf9aca",
   "metadata": {},
   "outputs": [],
   "source": [
    "plt.imshow(X[0])"
   ]
  },
  {
   "cell_type": "markdown",
   "id": "8b092197",
   "metadata": {},
   "source": [
    "## Split into train and test"
   ]
  },
  {
   "cell_type": "code",
   "execution_count": null,
   "id": "dee036ba",
   "metadata": {},
   "outputs": [],
   "source": [
    "from sklearn.model_selection import train_test_split\n",
    "X_train, X_test, y_train, y_test = train_test_split(X, y, test_size=0.33, random_state=42)\n",
    "print(X_train.shape)\n",
    "print(y_train.shape)\n",
    "print(X_test.shape)\n",
    "print(y_test.shape)"
   ]
  },
  {
   "cell_type": "code",
   "execution_count": null,
   "id": "5cc64d97",
   "metadata": {},
   "outputs": [],
   "source": [
    "# Define a set of data augmentation transformations\n",
    "transform = transforms.Compose([\n",
    "    # transforms.RandomRotation(20, fill=(255, 255, 255)),  # Random rotation with white border\n",
    "    transforms.RandomAffine(20, translate=(0.2, 0.2), fill=(255, 255, 255)),  # Random shifts with white border\n",
    "    transforms.RandomHorizontalFlip(),  # Random horizontal flips\n",
    "    transforms.ColorJitter(brightness=(0.8, 1.2)),  # Random brightness adjustment\n",
    "    transforms.ToTensor()  # Convert image to tensor\n",
    "])\n",
    "\n",
    "# Apply the transformations to the training dataset\n",
    "class AugmentedDataset(Dataset):\n",
    "    def __init__(self, images, labels, transform=None):\n",
    "        self.images = images\n",
    "        self.labels = labels\n",
    "        self.transform = transform\n",
    "\n",
    "    def __len__(self):\n",
    "        return len(self.images)\n",
    "\n",
    "    def __getitem__(self, idx):\n",
    "        image = Image.fromarray(self.images[idx].astype('uint8'))\n",
    "        label = self.labels[idx]\n",
    "        if self.transform:\n",
    "            image = self.transform(image)\n",
    "        return image, label\n",
    "\n",
    "# Create the augmented dataset\n",
    "augmented_dataset = AugmentedDataset(X_train, y_train, transform=transform)\n",
    "\n",
    "# Create a DataLoader for the augmented dataset\n",
    "augmented_loader = DataLoader(augmented_dataset, batch_size=10, shuffle=True)"
   ]
  },
  {
   "cell_type": "code",
   "execution_count": null,
   "id": "00cfb09e",
   "metadata": {},
   "outputs": [],
   "source": [
    "# Generate a batch of augmented images\n",
    "augmented_images, _ = next(iter(augmented_loader))\n",
    "\n",
    "# Convert the images to numpy format for visualization\n",
    "augmented_images = augmented_images.permute(0, 2, 3, 1).numpy()\n",
    "\n",
    "# Create a grid to display the images\n",
    "fig, axes = plt.subplots(2, 5, figsize=(15, 6))\n",
    "axes = axes.flatten()\n",
    "\n",
    "# Display each image in the grid\n",
    "for img, ax in zip(augmented_images, axes):\n",
    "    ax.imshow(img)\n",
    "    ax.axis('off')  # Hide axes\n",
    "\n",
    "plt.tight_layout()\n",
    "plt.show()"
   ]
  },
  {
   "cell_type": "markdown",
   "id": "bbe5e41e",
   "metadata": {},
   "source": [
    "## Build the model"
   ]
  },
  {
   "cell_type": "code",
   "execution_count": null,
   "id": "b630353a",
   "metadata": {},
   "outputs": [],
   "source": [
    "# Define the model\n",
    "class FruitClassifier(nn.Module):\n",
    "    def __init__(self):\n",
    "        super(FruitClassifier, self).__init__()\n",
    "        self.conv1 = nn.Conv2d(3, 8, kernel_size=3)  # Input: (batch_size, 3, 100, 100), Output: (batch_size, 8, 98, 98)\n",
    "        self.pool1 = nn.MaxPool2d(kernel_size=2, stride=2)  # Output: (batch_size, 8, 49, 49)\n",
    "        self.dropout1 = nn.Dropout(0.2)\n",
    "\n",
    "        self.conv2 = nn.Conv2d(8, 16, kernel_size=3)  # Input: (batch_size, 8, 49, 49), Output: (batch_size, 16, 47, 47)\n",
    "        self.pool2 = nn.MaxPool2d(kernel_size=2, stride=2)  # Output: (batch_size, 16, 23, 23)\n",
    "        self.dropout2 = nn.Dropout(0.2)\n",
    "\n",
    "        self.conv3 = nn.Conv2d(16, 32, kernel_size=3)  # Input: (batch_size, 16, 23, 23), Output: (batch_size, 32, 21, 21)\n",
    "        self.pool3 = nn.MaxPool2d(kernel_size=2, stride=2)  # Output: (batch_size, 32, 10, 10)\n",
    "        self.dropout3 = nn.Dropout(0.3)\n",
    "\n",
    "        self.flatten = nn.Flatten()\n",
    "        self.fc1 = nn.Linear(32 * 10 * 10, 400)  # Adjust input size based on the output of the last pooling layer * 11, 400)  # Adjust input size based on the output of the last pooling layer\n",
    "        self.dropout4 = nn.Dropout(0.1)\n",
    "        self.fc2 = nn.Linear(400, 400)\n",
    "        self.dropout5 = nn.Dropout(0.2)\n",
    "        self.fc3 = nn.Linear(400, 3)\n",
    "\n",
    "    def forward(self, x):\n",
    "        x = F.relu(self.conv1(x))\n",
    "        x = self.pool1(x)\n",
    "        x = self.dropout1(x)\n",
    "        # print('Output shape of layer 1', x.shape)\n",
    "        \n",
    "        x = F.relu(self.conv2(x))\n",
    "        x = self.pool2(x)\n",
    "        x = self.dropout2(x)\n",
    "        # print('Output shape of layer 2', x.shape)\n",
    "\n",
    "        x = F.relu(self.conv3(x))\n",
    "        x = self.pool3(x)\n",
    "        x = self.dropout3(x)\n",
    "        # print('Output shape of layer 3', x.shape)\n",
    "        \n",
    "        x = self.flatten(x)\n",
    "\n",
    "        # print('Shape required to pass to Linear Layer', x.shape)\n",
    "\n",
    "        x = F.relu(self.fc1(x))\n",
    "        x = self.dropout4(x)\n",
    "        x = F.relu(self.fc2(x))\n",
    "        x = self.dropout5(x)\n",
    "        x = self.fc3(x) # Return the raw logits\n",
    "        return x\n",
    "\n",
    "# Instantiate the model, use the GPU if possible\n",
    "device = torch.device(\"cuda\" if torch.cuda.is_available() else \"cpu\")\n",
    "model = FruitClassifier().to(device)\n",
    "\n",
    "# test with one batch, to see if the model works. enable the prints in the forward pass for size matching.\n",
    "# Get one batch of images from the dataloader\n",
    "images, labels = next(iter(augmented_loader))\n",
    "\n",
    "# Move the images to the device (GPU/CPU)\n",
    "images = images.to(device)\n",
    "\n",
    "# Pass the batch of images through the model\n",
    "outputs = model.forward(images)\n",
    "\n",
    "# Print the output shape\n",
    "print(\"Output shape:\", outputs.shape)"
   ]
  },
  {
   "cell_type": "code",
   "execution_count": null,
   "id": "52f1822c",
   "metadata": {},
   "outputs": [],
   "source": [
    "# Print the model summary\n",
    "summary(model, input_size=(3, 100, 100))  # Adjust input size as per your dataset\n",
    "\n",
    "# Define the loss function and optimizer\n",
    "criterion = nn.CrossEntropyLoss()  # Loss function for classification\n",
    "optimizer = torch.optim.Adam(model.parameters(), lr=0.001)  # Adam optimizer"
   ]
  },
  {
   "cell_type": "markdown",
   "id": "5787e7fa",
   "metadata": {},
   "source": [
    "## Train the model"
   ]
  },
  {
   "cell_type": "code",
   "execution_count": null,
   "id": "73aea3e8",
   "metadata": {},
   "outputs": [],
   "source": [
    "%%time\n",
    "\n",
    "batch_size = 5\n",
    "epochs = 10\n",
    "\n",
    "#recreate the dataloader with the new batch size\n",
    "augmented_loader = DataLoader(augmented_dataset, batch_size=batch_size, shuffle=True)\n",
    "\n",
    "# Initialize lists to store loss and accuracy history\n",
    "loss_history = []\n",
    "accuracy_history = []\n",
    "\n",
    "# Define the training loop\n",
    "for epoch in range(epochs):\n",
    "    model.train()  # Set the model to training mode\n",
    "    running_loss = 0.0\n",
    "    correct = 0\n",
    "    total = 0\n",
    "\n",
    "    for images, labels in augmented_loader:\n",
    "        images, labels = images.to(device), labels.to(device)  # Move data to the device (GPU/CPU)\n",
    "\n",
    "        optimizer.zero_grad()  # Clear the gradients\n",
    "        outputs = model(images)  # Forward pass\n",
    "        loss = criterion(outputs, labels)  # Compute the loss\n",
    "        loss.backward()  # Backward pass\n",
    "        optimizer.step()  # Update the weights\n",
    "\n",
    "        running_loss += loss.item()\n",
    "        _, predicted = torch.max(outputs, 1)\n",
    "        total += labels.size(0)\n",
    "        correct += (predicted == labels).sum().item()\n",
    "\n",
    "    epoch_loss = running_loss / len(augmented_loader)\n",
    "    epoch_accuracy = 100 * correct / total\n",
    "\n",
    "    # Store the loss and accuracy for this epoch\n",
    "    loss_history.append(epoch_loss)\n",
    "    accuracy_history.append(epoch_accuracy)\n",
    "\n",
    "    print(f\"Epoch {epoch + 1}/{epochs}, Loss: {epoch_loss:.4f}, Accuracy: {epoch_accuracy:.2f}%\")"
   ]
  },
  {
   "cell_type": "code",
   "execution_count": null,
   "id": "8dfec15e",
   "metadata": {},
   "outputs": [],
   "source": [
    "fig, ax1 = plt.subplots()\n",
    "\n",
    "# Plot loss on the primary y-axis\n",
    "ax1.set_xlabel('Epochs')\n",
    "ax1.set_ylabel('Loss', color='tab:blue')\n",
    "ax1.plot(loss_history, label='Loss', color='tab:blue')\n",
    "ax1.tick_params(axis='y', labelcolor='tab:blue')\n",
    "\n",
    "# Create a secondary y-axis for accuracy\n",
    "ax2 = ax1.twinx()\n",
    "ax2.set_ylabel('Accuracy', color='tab:orange')\n",
    "ax2.plot(accuracy_history, label='Accuracy', color='tab:orange')\n",
    "ax2.tick_params(axis='y', labelcolor='tab:orange')\n",
    "\n",
    "# Add a title and show the plot\n",
    "plt.title('Training Loss and Accuracy')\n",
    "fig.tight_layout()\n",
    "plt.show()"
   ]
  },
  {
   "cell_type": "markdown",
   "id": "71e219b7",
   "metadata": {},
   "source": [
    "## Evaluation"
   ]
  },
  {
   "cell_type": "code",
   "execution_count": null,
   "id": "3e5cbde6",
   "metadata": {},
   "outputs": [],
   "source": [
    "model.eval()  # Set the model to evaluation mode\n",
    "with torch.no_grad():  # Disable gradient computation for evaluation\n",
    "    X_test_tensor = torch.tensor(X_test, dtype=torch.float32).permute(0, 3, 1, 2)\n",
    "    X_test_tensor = X_test_tensor / 255.0  # normalization\n",
    "    X_test_tensor = X_test_tensor.to(device)# Convert X_test to tensor and move to device\n",
    "    y_test_tensor = torch.tensor(y_test, dtype=torch.long).to(device)  # Convert y_test to tensor and move to device\n",
    "    outputs = model(X_test_tensor)  # Forward pass\n",
    "    y_pred = torch.argmax(outputs, dim=1).cpu().numpy()\n",
    "    loss = criterion(outputs, y_test_tensor)  # Compute the loss\n",
    "    accuracy = (y_pred == y_test).sum() / y_test.size  # Compute accuracy using y_pred\n",
    "    score = [loss.item(), accuracy]\n",
    "\n",
    "print(f'Test loss     : {score[0]:4.4f}')\n",
    "print(f'Test accuracy : {score[1]:4.4f}')"
   ]
  },
  {
   "cell_type": "code",
   "execution_count": null,
   "id": "ccee8cc6",
   "metadata": {},
   "outputs": [],
   "source": [
    "from sklearn.metrics import classification_report,confusion_matrix, accuracy_score\n",
    "import seaborn as sns\n",
    "import matplotlib.pyplot as plt\n",
    "# import scikitplot as skplt \n",
    "\n",
    "print(classification_report(y_test,y_pred,digits = 4))\n",
    "print(accuracy_score(y_test,y_pred))\n",
    "\n",
    "cm = confusion_matrix(y_test, y_pred)\n",
    "plt.figure(figsize=(10, 8))\n",
    "sns.heatmap(cm, annot=True, fmt='d', cmap='Blues', xticklabels=range(3), yticklabels=range(3))\n",
    "plt.xlabel('Predicted Labels')\n",
    "plt.ylabel('True Labels')\n",
    "plt.title('Confusion Matrix')\n",
    "plt.show()"
   ]
  },
  {
   "cell_type": "markdown",
   "id": "13d855cc",
   "metadata": {},
   "source": [
    "## Save and load the model and try with new data"
   ]
  },
  {
   "cell_type": "code",
   "execution_count": null,
   "id": "f60e3dd8",
   "metadata": {},
   "outputs": [],
   "source": [
    "# Save the PyTorch model\n",
    "model_path = \"C:\\\\\\\\Users\\\\sacha\\\\OneDrive - Haute Ecole de Namur-Liege-Luxembourg\\\\henallux 2024-2025\\\\Q2\\\\Systèmes intelligents\\\\5. Reconnaissance de fruits\\\\reco.keras\"\n",
    "torch.save(model.state_dict(), model_path)\n"
   ]
  },
  {
   "cell_type": "code",
   "execution_count": null,
   "id": "c06f272c",
   "metadata": {},
   "outputs": [],
   "source": [
    "model2 = FruitClassifier().to(device)\n",
    "model2.load_state_dict(torch.load(model_path))\n",
    "model2.eval()  # Set the model to evaluation mode"
   ]
  },
  {
   "cell_type": "markdown",
   "id": "a6426755",
   "metadata": {},
   "source": [
    "## Save the model bis"
   ]
  },
  {
   "cell_type": "code",
   "execution_count": null,
   "id": "e244363c",
   "metadata": {},
   "outputs": [],
   "source": [
    "NewData1 = cv2.cvtColor(cv2.imread('NouvelleBanane.jpg'), cv2.COLOR_BGR2RGB)\n",
    "plt.imshow(NewData1)"
   ]
  },
  {
   "cell_type": "code",
   "execution_count": null,
   "id": "94786e47",
   "metadata": {},
   "outputs": [],
   "source": [
    "NewData1 = cv2.resize(NewData1,(100,100))\n",
    "plt.imshow(NewData1)"
   ]
  },
  {
   "cell_type": "code",
   "execution_count": null,
   "id": "f8e1389b",
   "metadata": {},
   "outputs": [],
   "source": [
    "NewData = np.stack((NewData1), axis = 0)"
   ]
  },
  {
   "cell_type": "code",
   "execution_count": null,
   "id": "49dc098b",
   "metadata": {},
   "outputs": [],
   "source": [
    "NewData.shape"
   ]
  },
  {
   "cell_type": "code",
   "execution_count": null,
   "id": "ca22994d",
   "metadata": {},
   "outputs": [],
   "source": [
    "# Preprocess the NewData\n",
    "NewData_tensor = torch.tensor(NewData, dtype=torch.float32).permute(0, 3, 1, 2).to(device) / 255.0  # Normalize to [0, 1]\n",
    "\n",
    "# Set the model to evaluation mode\n",
    "model2.eval()\n",
    "\n",
    "# Perform prediction\n",
    "with torch.no_grad():\n",
    "    y_sigmoid = model2(NewData_tensor)\n",
    "    y_pred = torch.argmax(y_sigmoid, axis=-1).cpu().numpy()\n",
    "\n",
    "print(y_pred)"
   ]
  }
 ],
 "metadata": {
  "kernelspec": {
   "display_name": ".venv",
   "language": "python",
   "name": "python3"
  },
  "language_info": {
   "codemirror_mode": {
    "name": "ipython",
    "version": 3
   },
   "file_extension": ".py",
   "mimetype": "text/x-python",
   "name": "python",
   "nbconvert_exporter": "python",
   "pygments_lexer": "ipython3",
   "version": "3.12.6"
  }
 },
 "nbformat": 4,
 "nbformat_minor": 5
}
